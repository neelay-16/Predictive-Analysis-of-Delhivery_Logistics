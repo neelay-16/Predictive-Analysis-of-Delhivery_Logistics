{
 "cells": [
  {
   "cell_type": "code",
   "execution_count": 1,
   "id": "8269ff6c",
   "metadata": {},
   "outputs": [],
   "source": [
    "import pandas as pd\n",
    "# Load the dataset\n",
    "df = pd.read_csv('cleaned_logistics_data.csv')"
   ]
  },
  {
   "cell_type": "code",
   "execution_count": 2,
   "id": "42df37a3",
   "metadata": {},
   "outputs": [
    {
     "name": "stdout",
     "output_type": "stream",
     "text": [
      "MSE: 0.10886192015595099\n",
      "RMSE: 0.32994229822190274\n",
      "R-squared: 0.26164395720039413\n"
     ]
    }
   ],
   "source": [
    "import pandas as pd\n",
    "from sklearn.model_selection import train_test_split\n",
    "from sklearn.linear_model import Ridge  # Or any other model you want to use\n",
    "from sklearn.metrics import accuracy_score  # Or any other relevant metric\n",
    "from sklearn.metrics import mean_squared_error, r2_score\n",
    "\n",
    "\n",
    "# 1. Load the selected features data\n",
    "selected_features_df = pd.read_csv('X_ridge_selected.csv')  # Replace with your feature selection file path\n",
    "target_variable = 'is_cutoff'  # Replace with your target variable name if different\n",
    "\n",
    "# Assuming 'df' is your original DataFrame with the target variable\n",
    "y = df[target_variable]  \n",
    "\n",
    "# 4. Split data into training and testing sets\n",
    "X_train, X_test, y_train, y_test = train_test_split(\n",
    "    selected_features_df, y, test_size=0.2, random_state=42\n",
    ")  # Adjust test_size and random_state as needed\n",
    "\n",
    "# 5. Retrain the model using selected features\n",
    "model = Ridge()  # Replace with your desired model\n",
    "model.fit(X_train, y_train)\n",
    "\n",
    "# 6. Evaluate accuracy\n",
    "y_pred = model.predict(X_test)\n",
    "# Assuming y_test are the actual values and y_pred are the predicted values\n",
    "mse = mean_squared_error(y_test, y_pred)\n",
    "rmse = mse**0.5  # or use np.sqrt(mse)\n",
    "r2 = r2_score(y_test, y_pred)\n",
    "\n",
    "print(f\"MSE: {mse}\")\n",
    "print(f\"RMSE: {rmse}\")\n",
    "print(f\"R-squared: {r2}\")"
   ]
  },
  {
   "cell_type": "code",
   "execution_count": null,
   "id": "c6b60f0f",
   "metadata": {},
   "outputs": [],
   "source": []
  }
 ],
 "metadata": {
  "kernelspec": {
   "display_name": "Python 3 (ipykernel)",
   "language": "python",
   "name": "python3"
  },
  "language_info": {
   "codemirror_mode": {
    "name": "ipython",
    "version": 3
   },
   "file_extension": ".py",
   "mimetype": "text/x-python",
   "name": "python",
   "nbconvert_exporter": "python",
   "pygments_lexer": "ipython3",
   "version": "3.11.4"
  }
 },
 "nbformat": 4,
 "nbformat_minor": 5
}
